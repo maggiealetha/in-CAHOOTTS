{
  "cells": [
    {
      "cell_type": "raw",
      "metadata": {
        "vscode": {
          "languageId": "raw"
        }
      },
      "source": [
        "# DySF-nODE Quick Start Guide\n",
        "\n",
        "This notebook demonstrates the basic usage of the DySF-nODE framework for modeling gene regulatory networks.\n"
      ]
    },
    {
      "cell_type": "code",
      "execution_count": null,
      "metadata": {},
      "outputs": [],
      "source": [
        "import torch\n",
        "import numpy as np\n",
        "import matplotlib.pyplot as plt\n",
        "import scanpy as sc\n",
        "import pandas as pd\n",
        "\n",
        "# Import DySF-nODE components\n",
        "from dysf_node import ODEFunc, SoftPriorODEFunc, Trainer\n",
        "from dysf_node.data import preprocess_data_general, TimeDataset\n",
        "from dysf_node.utils.config import load_config\n"
      ]
    }
  ],
  "metadata": {
    "language_info": {
      "name": "python"
    }
  },
  "nbformat": 4,
  "nbformat_minor": 2
}
